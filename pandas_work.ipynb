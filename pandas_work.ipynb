{
 "cells": [
  {
   "cell_type": "markdown",
   "id": "65fa4e81",
   "metadata": {},
   "source": [
    "The purpose of this document is to fine-tune pandas operations for use in the MCP server."
   ]
  },
  {
   "cell_type": "code",
   "execution_count": 1,
   "id": "7b036358",
   "metadata": {},
   "outputs": [],
   "source": [
    "import pandas as pd"
   ]
  },
  {
   "cell_type": "code",
   "execution_count": 2,
   "id": "8916c719",
   "metadata": {},
   "outputs": [],
   "source": [
    "df = pd.read_csv('labeled.csv', index_col=0)"
   ]
  },
  {
   "cell_type": "code",
   "execution_count": 3,
   "id": "333f55bf",
   "metadata": {},
   "outputs": [
    {
     "data": {
      "text/html": [
       "<div>\n",
       "<style scoped>\n",
       "    .dataframe tbody tr th:only-of-type {\n",
       "        vertical-align: middle;\n",
       "    }\n",
       "\n",
       "    .dataframe tbody tr th {\n",
       "        vertical-align: top;\n",
       "    }\n",
       "\n",
       "    .dataframe thead th {\n",
       "        text-align: right;\n",
       "    }\n",
       "</style>\n",
       "<table border=\"1\" class=\"dataframe\">\n",
       "  <thead>\n",
       "    <tr style=\"text-align: right;\">\n",
       "      <th></th>\n",
       "      <th>City</th>\n",
       "      <th>State</th>\n",
       "      <th>Population</th>\n",
       "      <th>Percent employed</th>\n",
       "      <th>Occupation (MBSA)</th>\n",
       "      <th>Occupation (S)</th>\n",
       "      <th>Occupation (SO)</th>\n",
       "      <th>Occupation (RCM)</th>\n",
       "      <th>Occupation (PT)</th>\n",
       "      <th>Median household income</th>\n",
       "      <th>Homeownership rate</th>\n",
       "      <th>Median home price</th>\n",
       "      <th>Median rent</th>\n",
       "      <th>KMeans</th>\n",
       "      <th>Hierarchical</th>\n",
       "    </tr>\n",
       "  </thead>\n",
       "  <tbody>\n",
       "    <tr>\n",
       "      <th>1353</th>\n",
       "      <td>Richardson</td>\n",
       "      <td>Texas</td>\n",
       "      <td>118269.0</td>\n",
       "      <td>70.8</td>\n",
       "      <td>56.8</td>\n",
       "      <td>11.5</td>\n",
       "      <td>20.2</td>\n",
       "      <td>4.2</td>\n",
       "      <td>7.2</td>\n",
       "      <td>96257.0</td>\n",
       "      <td>50.8</td>\n",
       "      <td>405600.0</td>\n",
       "      <td>1825.0</td>\n",
       "      <td>7</td>\n",
       "      <td>1</td>\n",
       "    </tr>\n",
       "  </tbody>\n",
       "</table>\n",
       "</div>"
      ],
      "text/plain": [
       "            City  State  Population  Percent employed  Occupation (MBSA)  \\\n",
       "1353  Richardson  Texas    118269.0              70.8               56.8   \n",
       "\n",
       "      Occupation (S)  Occupation (SO)  Occupation (RCM)  Occupation (PT)  \\\n",
       "1353            11.5             20.2               4.2              7.2   \n",
       "\n",
       "      Median household income  Homeownership rate  Median home price  \\\n",
       "1353                  96257.0                50.8           405600.0   \n",
       "\n",
       "      Median rent  KMeans  Hierarchical  \n",
       "1353       1825.0       7             1  "
      ]
     },
     "execution_count": 3,
     "metadata": {},
     "output_type": "execute_result"
    }
   ],
   "source": [
    "sample = df[df['City'] == 'Richardson']\n",
    "sample"
   ]
  },
  {
   "cell_type": "code",
   "execution_count": 13,
   "id": "58271307",
   "metadata": {},
   "outputs": [
    {
     "data": {
      "text/plain": [
       "[{'City': 'Richardson',\n",
       "  'State': 'Texas',\n",
       "  'Population': 118269.0,\n",
       "  'Percent employed': 70.8,\n",
       "  'Occupation (MBSA)': 56.8,\n",
       "  'Occupation (S)': 11.5,\n",
       "  'Occupation (SO)': 20.2,\n",
       "  'Occupation (RCM)': 4.2,\n",
       "  'Occupation (PT)': 7.2,\n",
       "  'Median household income': 96257.0,\n",
       "  'Homeownership rate': 50.8,\n",
       "  'Median home price': 405600.0,\n",
       "  'Median rent': 1825.0,\n",
       "  'KMeans': 7,\n",
       "  'Hierarchical': 1}]"
      ]
     },
     "execution_count": 13,
     "metadata": {},
     "output_type": "execute_result"
    }
   ],
   "source": [
    "sample = sample.to_dict('records')\n",
    "sample"
   ]
  },
  {
   "cell_type": "code",
   "execution_count": 5,
   "id": "f0f0b88e",
   "metadata": {},
   "outputs": [
    {
     "data": {
      "text/plain": [
       "Population                   2449.0\n",
       "Percent employed               62.4\n",
       "Occupation (MBSA)              32.3\n",
       "Occupation (S)                 16.8\n",
       "Occupation (SO)                19.7\n",
       "Occupation (RCM)               12.2\n",
       "Occupation (PT)                13.7\n",
       "Median household income     66176.0\n",
       "Homeownership rate             72.4\n",
       "Median home price          211500.0\n",
       "Median rent                  1049.0\n",
       "dtype: float64"
      ]
     },
     "execution_count": 5,
     "metadata": {},
     "output_type": "execute_result"
    }
   ],
   "source": [
    "categories = ['Population', 'Percent employed', 'Occupation (MBSA)', 'Occupation (S)', 'Occupation (SO)', \n",
    "              'Occupation (RCM)', 'Occupation (PT)', 'Median household income', 'Homeownership rate',\n",
    "              'Median home price', 'Median rent']\n",
    "population = df[categories].agg('median')\n",
    "population"
   ]
  },
  {
   "cell_type": "markdown",
   "id": "db99564c",
   "metadata": {},
   "source": [
    "I need to manipulate this pandas series to mirror the format of the sample dataframe."
   ]
  },
  {
   "cell_type": "code",
   "execution_count": 10,
   "id": "ceed36ea",
   "metadata": {},
   "outputs": [
    {
     "data": {
      "text/plain": [
       "[{'Population': 2449.0,\n",
       "  'Percent employed': 62.4,\n",
       "  'Occupation (MBSA)': 32.3,\n",
       "  'Occupation (S)': 16.8,\n",
       "  'Occupation (SO)': 19.7,\n",
       "  'Occupation (RCM)': 12.2,\n",
       "  'Occupation (PT)': 13.7,\n",
       "  'Median household income': 66176.0,\n",
       "  'Homeownership rate': 72.4,\n",
       "  'Median home price': 211500.0,\n",
       "  'Median rent': 1049.0}]"
      ]
     },
     "execution_count": 10,
     "metadata": {},
     "output_type": "execute_result"
    }
   ],
   "source": [
    "population = pd.DataFrame(population).T.to_dict('records')\n",
    "population"
   ]
  },
  {
   "cell_type": "markdown",
   "id": "4c9e40c5",
   "metadata": {},
   "source": [
    "Cool. Now I need to bundle this up into a list of two dictionaries, one for the specific citgy and the other for the region. THese two records will be returned to the LLM, which will be responsible for making the comparisons."
   ]
  },
  {
   "cell_type": "code",
   "execution_count": 16,
   "id": "844a063f",
   "metadata": {},
   "outputs": [
    {
     "data": {
      "text/plain": [
       "[{'City': 'Richardson',\n",
       "  'State': 'Texas',\n",
       "  'Population': 118269.0,\n",
       "  'Percent employed': 70.8,\n",
       "  'Occupation (MBSA)': 56.8,\n",
       "  'Occupation (S)': 11.5,\n",
       "  'Occupation (SO)': 20.2,\n",
       "  'Occupation (RCM)': 4.2,\n",
       "  'Occupation (PT)': 7.2,\n",
       "  'Median household income': 96257.0,\n",
       "  'Homeownership rate': 50.8,\n",
       "  'Median home price': 405600.0,\n",
       "  'Median rent': 1825.0,\n",
       "  'KMeans': 7,\n",
       "  'Hierarchical': 1},\n",
       " {'Population': 2449.0,\n",
       "  'Percent employed': 62.4,\n",
       "  'Occupation (MBSA)': 32.3,\n",
       "  'Occupation (S)': 16.8,\n",
       "  'Occupation (SO)': 19.7,\n",
       "  'Occupation (RCM)': 12.2,\n",
       "  'Occupation (PT)': 13.7,\n",
       "  'Median household income': 66176.0,\n",
       "  'Homeownership rate': 72.4,\n",
       "  'Median home price': 211500.0,\n",
       "  'Median rent': 1049.0}]"
      ]
     },
     "execution_count": 16,
     "metadata": {},
     "output_type": "execute_result"
    }
   ],
   "source": [
    "final_list = [sample[0], population[0]]\n",
    "final_list"
   ]
  },
  {
   "cell_type": "code",
   "execution_count": null,
   "id": "7ba12d2c",
   "metadata": {},
   "outputs": [],
   "source": []
  }
 ],
 "metadata": {
  "kernelspec": {
   "display_name": "base",
   "language": "python",
   "name": "python3"
  },
  "language_info": {
   "codemirror_mode": {
    "name": "ipython",
    "version": 3
   },
   "file_extension": ".py",
   "mimetype": "text/x-python",
   "name": "python",
   "nbconvert_exporter": "python",
   "pygments_lexer": "ipython3",
   "version": "3.12.4"
  }
 },
 "nbformat": 4,
 "nbformat_minor": 5
}
